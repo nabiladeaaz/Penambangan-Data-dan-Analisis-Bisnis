{
  "nbformat": 4,
  "nbformat_minor": 0,
  "metadata": {
    "colab": {
      "provenance": [],
      "collapsed_sections": [
        "AxJZ4RRVOEeY",
        "2_8-oV-IpVXk",
        "HxpRZdtvpQGx",
        "wBPbEJrPPnXn",
        "_HeYuzLFW-bB"
      ]
    },
    "kernelspec": {
      "name": "python3",
      "display_name": "Python 3"
    },
    "language_info": {
      "name": "python"
    }
  },
  "cells": [
    {
      "cell_type": "markdown",
      "source": [
        "---\n",
        "## **Informasi Dataset**\n",
        "---"
      ],
      "metadata": {
        "id": "AxJZ4RRVOEeY"
      }
    },
    {
      "cell_type": "code",
      "execution_count": 35,
      "metadata": {
        "id": "Y4fE3vJdeN3k"
      },
      "outputs": [],
      "source": [
        "import pandas as pd\n",
        "import numpy as np\n",
        "import matplotlib.pyplot as plt\n",
        "import seaborn as sns"
      ]
    },
    {
      "cell_type": "code",
      "source": [
        "# load data\n",
        "data = pd.read_csv('produk_elektronik.csv')\n",
        "data.head()"
      ],
      "metadata": {
        "colab": {
          "base_uri": "https://localhost:8080/",
          "height": 206
        },
        "id": "kwA39sL7egDk",
        "outputId": "5bb4cd3a-3e45-48e4-bf4d-72d78b9042f8"
      },
      "execution_count": 36,
      "outputs": [
        {
          "output_type": "execute_result",
          "data": {
            "text/plain": [
              "   produk_id nama_produk    kategori  harga  rating  jumlah_ulasan  \\\n",
              "0          1    Produk_1  Smartwatch  746.0     4.2          273.0   \n",
              "1          2    Produk_2   Headphone  241.0     3.5          239.0   \n",
              "2          3    Produk_3      Tablet  810.0     3.8          209.0   \n",
              "3          4    Produk_4   Headphone  303.0     3.2           59.0   \n",
              "4          5    Produk_5   Headphone  252.0     3.7           76.0   \n",
              "\n",
              "   negara_asal  \n",
              "0        Japan  \n",
              "1       Canada  \n",
              "2       Canada  \n",
              "3  South Korea  \n",
              "4  South Korea  "
            ],
            "text/html": [
              "\n",
              "  <div id=\"df-8c194166-2dbd-43ca-b67b-ea52180591a6\" class=\"colab-df-container\">\n",
              "    <div>\n",
              "<style scoped>\n",
              "    .dataframe tbody tr th:only-of-type {\n",
              "        vertical-align: middle;\n",
              "    }\n",
              "\n",
              "    .dataframe tbody tr th {\n",
              "        vertical-align: top;\n",
              "    }\n",
              "\n",
              "    .dataframe thead th {\n",
              "        text-align: right;\n",
              "    }\n",
              "</style>\n",
              "<table border=\"1\" class=\"dataframe\">\n",
              "  <thead>\n",
              "    <tr style=\"text-align: right;\">\n",
              "      <th></th>\n",
              "      <th>produk_id</th>\n",
              "      <th>nama_produk</th>\n",
              "      <th>kategori</th>\n",
              "      <th>harga</th>\n",
              "      <th>rating</th>\n",
              "      <th>jumlah_ulasan</th>\n",
              "      <th>negara_asal</th>\n",
              "    </tr>\n",
              "  </thead>\n",
              "  <tbody>\n",
              "    <tr>\n",
              "      <th>0</th>\n",
              "      <td>1</td>\n",
              "      <td>Produk_1</td>\n",
              "      <td>Smartwatch</td>\n",
              "      <td>746.0</td>\n",
              "      <td>4.2</td>\n",
              "      <td>273.0</td>\n",
              "      <td>Japan</td>\n",
              "    </tr>\n",
              "    <tr>\n",
              "      <th>1</th>\n",
              "      <td>2</td>\n",
              "      <td>Produk_2</td>\n",
              "      <td>Headphone</td>\n",
              "      <td>241.0</td>\n",
              "      <td>3.5</td>\n",
              "      <td>239.0</td>\n",
              "      <td>Canada</td>\n",
              "    </tr>\n",
              "    <tr>\n",
              "      <th>2</th>\n",
              "      <td>3</td>\n",
              "      <td>Produk_3</td>\n",
              "      <td>Tablet</td>\n",
              "      <td>810.0</td>\n",
              "      <td>3.8</td>\n",
              "      <td>209.0</td>\n",
              "      <td>Canada</td>\n",
              "    </tr>\n",
              "    <tr>\n",
              "      <th>3</th>\n",
              "      <td>4</td>\n",
              "      <td>Produk_4</td>\n",
              "      <td>Headphone</td>\n",
              "      <td>303.0</td>\n",
              "      <td>3.2</td>\n",
              "      <td>59.0</td>\n",
              "      <td>South Korea</td>\n",
              "    </tr>\n",
              "    <tr>\n",
              "      <th>4</th>\n",
              "      <td>5</td>\n",
              "      <td>Produk_5</td>\n",
              "      <td>Headphone</td>\n",
              "      <td>252.0</td>\n",
              "      <td>3.7</td>\n",
              "      <td>76.0</td>\n",
              "      <td>South Korea</td>\n",
              "    </tr>\n",
              "  </tbody>\n",
              "</table>\n",
              "</div>\n",
              "    <div class=\"colab-df-buttons\">\n",
              "\n",
              "  <div class=\"colab-df-container\">\n",
              "    <button class=\"colab-df-convert\" onclick=\"convertToInteractive('df-8c194166-2dbd-43ca-b67b-ea52180591a6')\"\n",
              "            title=\"Convert this dataframe to an interactive table.\"\n",
              "            style=\"display:none;\">\n",
              "\n",
              "  <svg xmlns=\"http://www.w3.org/2000/svg\" height=\"24px\" viewBox=\"0 -960 960 960\">\n",
              "    <path d=\"M120-120v-720h720v720H120Zm60-500h600v-160H180v160Zm220 220h160v-160H400v160Zm0 220h160v-160H400v160ZM180-400h160v-160H180v160Zm440 0h160v-160H620v160ZM180-180h160v-160H180v160Zm440 0h160v-160H620v160Z\"/>\n",
              "  </svg>\n",
              "    </button>\n",
              "\n",
              "  <style>\n",
              "    .colab-df-container {\n",
              "      display:flex;\n",
              "      gap: 12px;\n",
              "    }\n",
              "\n",
              "    .colab-df-convert {\n",
              "      background-color: #E8F0FE;\n",
              "      border: none;\n",
              "      border-radius: 50%;\n",
              "      cursor: pointer;\n",
              "      display: none;\n",
              "      fill: #1967D2;\n",
              "      height: 32px;\n",
              "      padding: 0 0 0 0;\n",
              "      width: 32px;\n",
              "    }\n",
              "\n",
              "    .colab-df-convert:hover {\n",
              "      background-color: #E2EBFA;\n",
              "      box-shadow: 0px 1px 2px rgba(60, 64, 67, 0.3), 0px 1px 3px 1px rgba(60, 64, 67, 0.15);\n",
              "      fill: #174EA6;\n",
              "    }\n",
              "\n",
              "    .colab-df-buttons div {\n",
              "      margin-bottom: 4px;\n",
              "    }\n",
              "\n",
              "    [theme=dark] .colab-df-convert {\n",
              "      background-color: #3B4455;\n",
              "      fill: #D2E3FC;\n",
              "    }\n",
              "\n",
              "    [theme=dark] .colab-df-convert:hover {\n",
              "      background-color: #434B5C;\n",
              "      box-shadow: 0px 1px 3px 1px rgba(0, 0, 0, 0.15);\n",
              "      filter: drop-shadow(0px 1px 2px rgba(0, 0, 0, 0.3));\n",
              "      fill: #FFFFFF;\n",
              "    }\n",
              "  </style>\n",
              "\n",
              "    <script>\n",
              "      const buttonEl =\n",
              "        document.querySelector('#df-8c194166-2dbd-43ca-b67b-ea52180591a6 button.colab-df-convert');\n",
              "      buttonEl.style.display =\n",
              "        google.colab.kernel.accessAllowed ? 'block' : 'none';\n",
              "\n",
              "      async function convertToInteractive(key) {\n",
              "        const element = document.querySelector('#df-8c194166-2dbd-43ca-b67b-ea52180591a6');\n",
              "        const dataTable =\n",
              "          await google.colab.kernel.invokeFunction('convertToInteractive',\n",
              "                                                    [key], {});\n",
              "        if (!dataTable) return;\n",
              "\n",
              "        const docLinkHtml = 'Like what you see? Visit the ' +\n",
              "          '<a target=\"_blank\" href=https://colab.research.google.com/notebooks/data_table.ipynb>data table notebook</a>'\n",
              "          + ' to learn more about interactive tables.';\n",
              "        element.innerHTML = '';\n",
              "        dataTable['output_type'] = 'display_data';\n",
              "        await google.colab.output.renderOutput(dataTable, element);\n",
              "        const docLink = document.createElement('div');\n",
              "        docLink.innerHTML = docLinkHtml;\n",
              "        element.appendChild(docLink);\n",
              "      }\n",
              "    </script>\n",
              "  </div>\n",
              "\n",
              "\n",
              "<div id=\"df-2c5c2d7e-8673-4af4-9ee9-12196181d6fb\">\n",
              "  <button class=\"colab-df-quickchart\" onclick=\"quickchart('df-2c5c2d7e-8673-4af4-9ee9-12196181d6fb')\"\n",
              "            title=\"Suggest charts\"\n",
              "            style=\"display:none;\">\n",
              "\n",
              "<svg xmlns=\"http://www.w3.org/2000/svg\" height=\"24px\"viewBox=\"0 0 24 24\"\n",
              "     width=\"24px\">\n",
              "    <g>\n",
              "        <path d=\"M19 3H5c-1.1 0-2 .9-2 2v14c0 1.1.9 2 2 2h14c1.1 0 2-.9 2-2V5c0-1.1-.9-2-2-2zM9 17H7v-7h2v7zm4 0h-2V7h2v10zm4 0h-2v-4h2v4z\"/>\n",
              "    </g>\n",
              "</svg>\n",
              "  </button>\n",
              "\n",
              "<style>\n",
              "  .colab-df-quickchart {\n",
              "      --bg-color: #E8F0FE;\n",
              "      --fill-color: #1967D2;\n",
              "      --hover-bg-color: #E2EBFA;\n",
              "      --hover-fill-color: #174EA6;\n",
              "      --disabled-fill-color: #AAA;\n",
              "      --disabled-bg-color: #DDD;\n",
              "  }\n",
              "\n",
              "  [theme=dark] .colab-df-quickchart {\n",
              "      --bg-color: #3B4455;\n",
              "      --fill-color: #D2E3FC;\n",
              "      --hover-bg-color: #434B5C;\n",
              "      --hover-fill-color: #FFFFFF;\n",
              "      --disabled-bg-color: #3B4455;\n",
              "      --disabled-fill-color: #666;\n",
              "  }\n",
              "\n",
              "  .colab-df-quickchart {\n",
              "    background-color: var(--bg-color);\n",
              "    border: none;\n",
              "    border-radius: 50%;\n",
              "    cursor: pointer;\n",
              "    display: none;\n",
              "    fill: var(--fill-color);\n",
              "    height: 32px;\n",
              "    padding: 0;\n",
              "    width: 32px;\n",
              "  }\n",
              "\n",
              "  .colab-df-quickchart:hover {\n",
              "    background-color: var(--hover-bg-color);\n",
              "    box-shadow: 0 1px 2px rgba(60, 64, 67, 0.3), 0 1px 3px 1px rgba(60, 64, 67, 0.15);\n",
              "    fill: var(--button-hover-fill-color);\n",
              "  }\n",
              "\n",
              "  .colab-df-quickchart-complete:disabled,\n",
              "  .colab-df-quickchart-complete:disabled:hover {\n",
              "    background-color: var(--disabled-bg-color);\n",
              "    fill: var(--disabled-fill-color);\n",
              "    box-shadow: none;\n",
              "  }\n",
              "\n",
              "  .colab-df-spinner {\n",
              "    border: 2px solid var(--fill-color);\n",
              "    border-color: transparent;\n",
              "    border-bottom-color: var(--fill-color);\n",
              "    animation:\n",
              "      spin 1s steps(1) infinite;\n",
              "  }\n",
              "\n",
              "  @keyframes spin {\n",
              "    0% {\n",
              "      border-color: transparent;\n",
              "      border-bottom-color: var(--fill-color);\n",
              "      border-left-color: var(--fill-color);\n",
              "    }\n",
              "    20% {\n",
              "      border-color: transparent;\n",
              "      border-left-color: var(--fill-color);\n",
              "      border-top-color: var(--fill-color);\n",
              "    }\n",
              "    30% {\n",
              "      border-color: transparent;\n",
              "      border-left-color: var(--fill-color);\n",
              "      border-top-color: var(--fill-color);\n",
              "      border-right-color: var(--fill-color);\n",
              "    }\n",
              "    40% {\n",
              "      border-color: transparent;\n",
              "      border-right-color: var(--fill-color);\n",
              "      border-top-color: var(--fill-color);\n",
              "    }\n",
              "    60% {\n",
              "      border-color: transparent;\n",
              "      border-right-color: var(--fill-color);\n",
              "    }\n",
              "    80% {\n",
              "      border-color: transparent;\n",
              "      border-right-color: var(--fill-color);\n",
              "      border-bottom-color: var(--fill-color);\n",
              "    }\n",
              "    90% {\n",
              "      border-color: transparent;\n",
              "      border-bottom-color: var(--fill-color);\n",
              "    }\n",
              "  }\n",
              "</style>\n",
              "\n",
              "  <script>\n",
              "    async function quickchart(key) {\n",
              "      const quickchartButtonEl =\n",
              "        document.querySelector('#' + key + ' button');\n",
              "      quickchartButtonEl.disabled = true;  // To prevent multiple clicks.\n",
              "      quickchartButtonEl.classList.add('colab-df-spinner');\n",
              "      try {\n",
              "        const charts = await google.colab.kernel.invokeFunction(\n",
              "            'suggestCharts', [key], {});\n",
              "      } catch (error) {\n",
              "        console.error('Error during call to suggestCharts:', error);\n",
              "      }\n",
              "      quickchartButtonEl.classList.remove('colab-df-spinner');\n",
              "      quickchartButtonEl.classList.add('colab-df-quickchart-complete');\n",
              "    }\n",
              "    (() => {\n",
              "      let quickchartButtonEl =\n",
              "        document.querySelector('#df-2c5c2d7e-8673-4af4-9ee9-12196181d6fb button');\n",
              "      quickchartButtonEl.style.display =\n",
              "        google.colab.kernel.accessAllowed ? 'block' : 'none';\n",
              "    })();\n",
              "  </script>\n",
              "</div>\n",
              "\n",
              "    </div>\n",
              "  </div>\n"
            ],
            "application/vnd.google.colaboratory.intrinsic+json": {
              "type": "dataframe",
              "variable_name": "data",
              "summary": "{\n  \"name\": \"data\",\n  \"rows\": 550,\n  \"fields\": [\n    {\n      \"column\": \"produk_id\",\n      \"properties\": {\n        \"dtype\": \"number\",\n        \"std\": 158,\n        \"min\": 1,\n        \"max\": 550,\n        \"num_unique_values\": 550,\n        \"samples\": [\n          196,\n          80,\n          481\n        ],\n        \"semantic_type\": \"\",\n        \"description\": \"\"\n      }\n    },\n    {\n      \"column\": \"nama_produk\",\n      \"properties\": {\n        \"dtype\": \"string\",\n        \"num_unique_values\": 550,\n        \"samples\": [\n          \"Produk_196\",\n          \"Produk_80\",\n          \"Produk_481\"\n        ],\n        \"semantic_type\": \"\",\n        \"description\": \"\"\n      }\n    },\n    {\n      \"column\": \"kategori\",\n      \"properties\": {\n        \"dtype\": \"category\",\n        \"num_unique_values\": 6,\n        \"samples\": [\n          \"Smartwatch\",\n          \"Headphone\",\n          \"Smartphone\"\n        ],\n        \"semantic_type\": \"\",\n        \"description\": \"\"\n      }\n    },\n    {\n      \"column\": \"harga\",\n      \"properties\": {\n        \"dtype\": \"number\",\n        \"std\": 625.8867249279893,\n        \"min\": -213.0,\n        \"max\": 8341.0,\n        \"num_unique_values\": 394,\n        \"samples\": [\n          388.0,\n          492.0,\n          418.0\n        ],\n        \"semantic_type\": \"\",\n        \"description\": \"\"\n      }\n    },\n    {\n      \"column\": \"rating\",\n      \"properties\": {\n        \"dtype\": \"number\",\n        \"std\": 0.5710523983693329,\n        \"min\": 3.0,\n        \"max\": 5.0,\n        \"num_unique_values\": 21,\n        \"samples\": [\n          4.2,\n          4.3,\n          5.0\n        ],\n        \"semantic_type\": \"\",\n        \"description\": \"\"\n      }\n    },\n    {\n      \"column\": \"jumlah_ulasan\",\n      \"properties\": {\n        \"dtype\": \"number\",\n        \"std\": 142.65537992151366,\n        \"min\": 12.0,\n        \"max\": 499.0,\n        \"num_unique_values\": 327,\n        \"samples\": [\n          212.0,\n          172.0,\n          375.0\n        ],\n        \"semantic_type\": \"\",\n        \"description\": \"\"\n      }\n    },\n    {\n      \"column\": \"negara_asal\",\n      \"properties\": {\n        \"dtype\": \"category\",\n        \"num_unique_values\": 9,\n        \"samples\": [\n          \"India\",\n          \"Canada\",\n          \"Germany\"\n        ],\n        \"semantic_type\": \"\",\n        \"description\": \"\"\n      }\n    }\n  ]\n}"
            }
          },
          "metadata": {},
          "execution_count": 36
        }
      ]
    },
    {
      "cell_type": "code",
      "source": [
        "# menampilkan informasi data setiap kolom\n",
        "data.info()"
      ],
      "metadata": {
        "colab": {
          "base_uri": "https://localhost:8080/"
        },
        "id": "LWY2Ykkte23e",
        "outputId": "b94fb907-0a9f-46fc-8524-9e34f7813f1b"
      },
      "execution_count": 37,
      "outputs": [
        {
          "output_type": "stream",
          "name": "stdout",
          "text": [
            "<class 'pandas.core.frame.DataFrame'>\n",
            "RangeIndex: 550 entries, 0 to 549\n",
            "Data columns (total 7 columns):\n",
            " #   Column         Non-Null Count  Dtype  \n",
            "---  ------         --------------  -----  \n",
            " 0   produk_id      550 non-null    int64  \n",
            " 1   nama_produk    550 non-null    object \n",
            " 2   kategori       550 non-null    object \n",
            " 3   harga          520 non-null    float64\n",
            " 4   rating         500 non-null    float64\n",
            " 5   jumlah_ulasan  530 non-null    float64\n",
            " 6   negara_asal    550 non-null    object \n",
            "dtypes: float64(3), int64(1), object(3)\n",
            "memory usage: 30.2+ KB\n"
          ]
        }
      ]
    },
    {
      "cell_type": "markdown",
      "source": [
        "---\n",
        "## **Menangani *Missing Value***\n",
        "---"
      ],
      "metadata": {
        "id": "2_8-oV-IpVXk"
      }
    },
    {
      "cell_type": "markdown",
      "source": [
        "### Mengecek *Missing Value* dalam Dataset\n",
        "---"
      ],
      "metadata": {
        "id": "vRnSYOqjPwos"
      }
    },
    {
      "cell_type": "code",
      "source": [
        "data.isnull()"
      ],
      "metadata": {
        "colab": {
          "base_uri": "https://localhost:8080/",
          "height": 424
        },
        "id": "wvxaOBxHP62_",
        "outputId": "6ea2be5c-bcc9-4dc2-9d2e-870eba70cbda"
      },
      "execution_count": 38,
      "outputs": [
        {
          "output_type": "execute_result",
          "data": {
            "text/plain": [
              "     produk_id  nama_produk  kategori  harga  rating  jumlah_ulasan  \\\n",
              "0        False        False     False  False   False          False   \n",
              "1        False        False     False  False   False          False   \n",
              "2        False        False     False  False   False          False   \n",
              "3        False        False     False  False   False          False   \n",
              "4        False        False     False  False   False          False   \n",
              "..         ...          ...       ...    ...     ...            ...   \n",
              "545      False        False     False  False   False          False   \n",
              "546      False        False     False  False   False          False   \n",
              "547      False        False     False  False   False          False   \n",
              "548      False        False     False  False   False          False   \n",
              "549      False        False     False  False   False          False   \n",
              "\n",
              "     negara_asal  \n",
              "0          False  \n",
              "1          False  \n",
              "2          False  \n",
              "3          False  \n",
              "4          False  \n",
              "..           ...  \n",
              "545        False  \n",
              "546        False  \n",
              "547        False  \n",
              "548        False  \n",
              "549        False  \n",
              "\n",
              "[550 rows x 7 columns]"
            ],
            "text/html": [
              "\n",
              "  <div id=\"df-f82c8fc0-7f0d-4864-a901-2854dc8fb9a5\" class=\"colab-df-container\">\n",
              "    <div>\n",
              "<style scoped>\n",
              "    .dataframe tbody tr th:only-of-type {\n",
              "        vertical-align: middle;\n",
              "    }\n",
              "\n",
              "    .dataframe tbody tr th {\n",
              "        vertical-align: top;\n",
              "    }\n",
              "\n",
              "    .dataframe thead th {\n",
              "        text-align: right;\n",
              "    }\n",
              "</style>\n",
              "<table border=\"1\" class=\"dataframe\">\n",
              "  <thead>\n",
              "    <tr style=\"text-align: right;\">\n",
              "      <th></th>\n",
              "      <th>produk_id</th>\n",
              "      <th>nama_produk</th>\n",
              "      <th>kategori</th>\n",
              "      <th>harga</th>\n",
              "      <th>rating</th>\n",
              "      <th>jumlah_ulasan</th>\n",
              "      <th>negara_asal</th>\n",
              "    </tr>\n",
              "  </thead>\n",
              "  <tbody>\n",
              "    <tr>\n",
              "      <th>0</th>\n",
              "      <td>False</td>\n",
              "      <td>False</td>\n",
              "      <td>False</td>\n",
              "      <td>False</td>\n",
              "      <td>False</td>\n",
              "      <td>False</td>\n",
              "      <td>False</td>\n",
              "    </tr>\n",
              "    <tr>\n",
              "      <th>1</th>\n",
              "      <td>False</td>\n",
              "      <td>False</td>\n",
              "      <td>False</td>\n",
              "      <td>False</td>\n",
              "      <td>False</td>\n",
              "      <td>False</td>\n",
              "      <td>False</td>\n",
              "    </tr>\n",
              "    <tr>\n",
              "      <th>2</th>\n",
              "      <td>False</td>\n",
              "      <td>False</td>\n",
              "      <td>False</td>\n",
              "      <td>False</td>\n",
              "      <td>False</td>\n",
              "      <td>False</td>\n",
              "      <td>False</td>\n",
              "    </tr>\n",
              "    <tr>\n",
              "      <th>3</th>\n",
              "      <td>False</td>\n",
              "      <td>False</td>\n",
              "      <td>False</td>\n",
              "      <td>False</td>\n",
              "      <td>False</td>\n",
              "      <td>False</td>\n",
              "      <td>False</td>\n",
              "    </tr>\n",
              "    <tr>\n",
              "      <th>4</th>\n",
              "      <td>False</td>\n",
              "      <td>False</td>\n",
              "      <td>False</td>\n",
              "      <td>False</td>\n",
              "      <td>False</td>\n",
              "      <td>False</td>\n",
              "      <td>False</td>\n",
              "    </tr>\n",
              "    <tr>\n",
              "      <th>...</th>\n",
              "      <td>...</td>\n",
              "      <td>...</td>\n",
              "      <td>...</td>\n",
              "      <td>...</td>\n",
              "      <td>...</td>\n",
              "      <td>...</td>\n",
              "      <td>...</td>\n",
              "    </tr>\n",
              "    <tr>\n",
              "      <th>545</th>\n",
              "      <td>False</td>\n",
              "      <td>False</td>\n",
              "      <td>False</td>\n",
              "      <td>False</td>\n",
              "      <td>False</td>\n",
              "      <td>False</td>\n",
              "      <td>False</td>\n",
              "    </tr>\n",
              "    <tr>\n",
              "      <th>546</th>\n",
              "      <td>False</td>\n",
              "      <td>False</td>\n",
              "      <td>False</td>\n",
              "      <td>False</td>\n",
              "      <td>False</td>\n",
              "      <td>False</td>\n",
              "      <td>False</td>\n",
              "    </tr>\n",
              "    <tr>\n",
              "      <th>547</th>\n",
              "      <td>False</td>\n",
              "      <td>False</td>\n",
              "      <td>False</td>\n",
              "      <td>False</td>\n",
              "      <td>False</td>\n",
              "      <td>False</td>\n",
              "      <td>False</td>\n",
              "    </tr>\n",
              "    <tr>\n",
              "      <th>548</th>\n",
              "      <td>False</td>\n",
              "      <td>False</td>\n",
              "      <td>False</td>\n",
              "      <td>False</td>\n",
              "      <td>False</td>\n",
              "      <td>False</td>\n",
              "      <td>False</td>\n",
              "    </tr>\n",
              "    <tr>\n",
              "      <th>549</th>\n",
              "      <td>False</td>\n",
              "      <td>False</td>\n",
              "      <td>False</td>\n",
              "      <td>False</td>\n",
              "      <td>False</td>\n",
              "      <td>False</td>\n",
              "      <td>False</td>\n",
              "    </tr>\n",
              "  </tbody>\n",
              "</table>\n",
              "<p>550 rows × 7 columns</p>\n",
              "</div>\n",
              "    <div class=\"colab-df-buttons\">\n",
              "\n",
              "  <div class=\"colab-df-container\">\n",
              "    <button class=\"colab-df-convert\" onclick=\"convertToInteractive('df-f82c8fc0-7f0d-4864-a901-2854dc8fb9a5')\"\n",
              "            title=\"Convert this dataframe to an interactive table.\"\n",
              "            style=\"display:none;\">\n",
              "\n",
              "  <svg xmlns=\"http://www.w3.org/2000/svg\" height=\"24px\" viewBox=\"0 -960 960 960\">\n",
              "    <path d=\"M120-120v-720h720v720H120Zm60-500h600v-160H180v160Zm220 220h160v-160H400v160Zm0 220h160v-160H400v160ZM180-400h160v-160H180v160Zm440 0h160v-160H620v160ZM180-180h160v-160H180v160Zm440 0h160v-160H620v160Z\"/>\n",
              "  </svg>\n",
              "    </button>\n",
              "\n",
              "  <style>\n",
              "    .colab-df-container {\n",
              "      display:flex;\n",
              "      gap: 12px;\n",
              "    }\n",
              "\n",
              "    .colab-df-convert {\n",
              "      background-color: #E8F0FE;\n",
              "      border: none;\n",
              "      border-radius: 50%;\n",
              "      cursor: pointer;\n",
              "      display: none;\n",
              "      fill: #1967D2;\n",
              "      height: 32px;\n",
              "      padding: 0 0 0 0;\n",
              "      width: 32px;\n",
              "    }\n",
              "\n",
              "    .colab-df-convert:hover {\n",
              "      background-color: #E2EBFA;\n",
              "      box-shadow: 0px 1px 2px rgba(60, 64, 67, 0.3), 0px 1px 3px 1px rgba(60, 64, 67, 0.15);\n",
              "      fill: #174EA6;\n",
              "    }\n",
              "\n",
              "    .colab-df-buttons div {\n",
              "      margin-bottom: 4px;\n",
              "    }\n",
              "\n",
              "    [theme=dark] .colab-df-convert {\n",
              "      background-color: #3B4455;\n",
              "      fill: #D2E3FC;\n",
              "    }\n",
              "\n",
              "    [theme=dark] .colab-df-convert:hover {\n",
              "      background-color: #434B5C;\n",
              "      box-shadow: 0px 1px 3px 1px rgba(0, 0, 0, 0.15);\n",
              "      filter: drop-shadow(0px 1px 2px rgba(0, 0, 0, 0.3));\n",
              "      fill: #FFFFFF;\n",
              "    }\n",
              "  </style>\n",
              "\n",
              "    <script>\n",
              "      const buttonEl =\n",
              "        document.querySelector('#df-f82c8fc0-7f0d-4864-a901-2854dc8fb9a5 button.colab-df-convert');\n",
              "      buttonEl.style.display =\n",
              "        google.colab.kernel.accessAllowed ? 'block' : 'none';\n",
              "\n",
              "      async function convertToInteractive(key) {\n",
              "        const element = document.querySelector('#df-f82c8fc0-7f0d-4864-a901-2854dc8fb9a5');\n",
              "        const dataTable =\n",
              "          await google.colab.kernel.invokeFunction('convertToInteractive',\n",
              "                                                    [key], {});\n",
              "        if (!dataTable) return;\n",
              "\n",
              "        const docLinkHtml = 'Like what you see? Visit the ' +\n",
              "          '<a target=\"_blank\" href=https://colab.research.google.com/notebooks/data_table.ipynb>data table notebook</a>'\n",
              "          + ' to learn more about interactive tables.';\n",
              "        element.innerHTML = '';\n",
              "        dataTable['output_type'] = 'display_data';\n",
              "        await google.colab.output.renderOutput(dataTable, element);\n",
              "        const docLink = document.createElement('div');\n",
              "        docLink.innerHTML = docLinkHtml;\n",
              "        element.appendChild(docLink);\n",
              "      }\n",
              "    </script>\n",
              "  </div>\n",
              "\n",
              "\n",
              "<div id=\"df-8db159ad-db46-4e19-b91e-017a7d90e354\">\n",
              "  <button class=\"colab-df-quickchart\" onclick=\"quickchart('df-8db159ad-db46-4e19-b91e-017a7d90e354')\"\n",
              "            title=\"Suggest charts\"\n",
              "            style=\"display:none;\">\n",
              "\n",
              "<svg xmlns=\"http://www.w3.org/2000/svg\" height=\"24px\"viewBox=\"0 0 24 24\"\n",
              "     width=\"24px\">\n",
              "    <g>\n",
              "        <path d=\"M19 3H5c-1.1 0-2 .9-2 2v14c0 1.1.9 2 2 2h14c1.1 0 2-.9 2-2V5c0-1.1-.9-2-2-2zM9 17H7v-7h2v7zm4 0h-2V7h2v10zm4 0h-2v-4h2v4z\"/>\n",
              "    </g>\n",
              "</svg>\n",
              "  </button>\n",
              "\n",
              "<style>\n",
              "  .colab-df-quickchart {\n",
              "      --bg-color: #E8F0FE;\n",
              "      --fill-color: #1967D2;\n",
              "      --hover-bg-color: #E2EBFA;\n",
              "      --hover-fill-color: #174EA6;\n",
              "      --disabled-fill-color: #AAA;\n",
              "      --disabled-bg-color: #DDD;\n",
              "  }\n",
              "\n",
              "  [theme=dark] .colab-df-quickchart {\n",
              "      --bg-color: #3B4455;\n",
              "      --fill-color: #D2E3FC;\n",
              "      --hover-bg-color: #434B5C;\n",
              "      --hover-fill-color: #FFFFFF;\n",
              "      --disabled-bg-color: #3B4455;\n",
              "      --disabled-fill-color: #666;\n",
              "  }\n",
              "\n",
              "  .colab-df-quickchart {\n",
              "    background-color: var(--bg-color);\n",
              "    border: none;\n",
              "    border-radius: 50%;\n",
              "    cursor: pointer;\n",
              "    display: none;\n",
              "    fill: var(--fill-color);\n",
              "    height: 32px;\n",
              "    padding: 0;\n",
              "    width: 32px;\n",
              "  }\n",
              "\n",
              "  .colab-df-quickchart:hover {\n",
              "    background-color: var(--hover-bg-color);\n",
              "    box-shadow: 0 1px 2px rgba(60, 64, 67, 0.3), 0 1px 3px 1px rgba(60, 64, 67, 0.15);\n",
              "    fill: var(--button-hover-fill-color);\n",
              "  }\n",
              "\n",
              "  .colab-df-quickchart-complete:disabled,\n",
              "  .colab-df-quickchart-complete:disabled:hover {\n",
              "    background-color: var(--disabled-bg-color);\n",
              "    fill: var(--disabled-fill-color);\n",
              "    box-shadow: none;\n",
              "  }\n",
              "\n",
              "  .colab-df-spinner {\n",
              "    border: 2px solid var(--fill-color);\n",
              "    border-color: transparent;\n",
              "    border-bottom-color: var(--fill-color);\n",
              "    animation:\n",
              "      spin 1s steps(1) infinite;\n",
              "  }\n",
              "\n",
              "  @keyframes spin {\n",
              "    0% {\n",
              "      border-color: transparent;\n",
              "      border-bottom-color: var(--fill-color);\n",
              "      border-left-color: var(--fill-color);\n",
              "    }\n",
              "    20% {\n",
              "      border-color: transparent;\n",
              "      border-left-color: var(--fill-color);\n",
              "      border-top-color: var(--fill-color);\n",
              "    }\n",
              "    30% {\n",
              "      border-color: transparent;\n",
              "      border-left-color: var(--fill-color);\n",
              "      border-top-color: var(--fill-color);\n",
              "      border-right-color: var(--fill-color);\n",
              "    }\n",
              "    40% {\n",
              "      border-color: transparent;\n",
              "      border-right-color: var(--fill-color);\n",
              "      border-top-color: var(--fill-color);\n",
              "    }\n",
              "    60% {\n",
              "      border-color: transparent;\n",
              "      border-right-color: var(--fill-color);\n",
              "    }\n",
              "    80% {\n",
              "      border-color: transparent;\n",
              "      border-right-color: var(--fill-color);\n",
              "      border-bottom-color: var(--fill-color);\n",
              "    }\n",
              "    90% {\n",
              "      border-color: transparent;\n",
              "      border-bottom-color: var(--fill-color);\n",
              "    }\n",
              "  }\n",
              "</style>\n",
              "\n",
              "  <script>\n",
              "    async function quickchart(key) {\n",
              "      const quickchartButtonEl =\n",
              "        document.querySelector('#' + key + ' button');\n",
              "      quickchartButtonEl.disabled = true;  // To prevent multiple clicks.\n",
              "      quickchartButtonEl.classList.add('colab-df-spinner');\n",
              "      try {\n",
              "        const charts = await google.colab.kernel.invokeFunction(\n",
              "            'suggestCharts', [key], {});\n",
              "      } catch (error) {\n",
              "        console.error('Error during call to suggestCharts:', error);\n",
              "      }\n",
              "      quickchartButtonEl.classList.remove('colab-df-spinner');\n",
              "      quickchartButtonEl.classList.add('colab-df-quickchart-complete');\n",
              "    }\n",
              "    (() => {\n",
              "      let quickchartButtonEl =\n",
              "        document.querySelector('#df-8db159ad-db46-4e19-b91e-017a7d90e354 button');\n",
              "      quickchartButtonEl.style.display =\n",
              "        google.colab.kernel.accessAllowed ? 'block' : 'none';\n",
              "    })();\n",
              "  </script>\n",
              "</div>\n",
              "\n",
              "    </div>\n",
              "  </div>\n"
            ],
            "application/vnd.google.colaboratory.intrinsic+json": {
              "type": "dataframe",
              "summary": "{\n  \"name\": \"data\",\n  \"rows\": 550,\n  \"fields\": [\n    {\n      \"column\": \"produk_id\",\n      \"properties\": {\n        \"dtype\": \"boolean\",\n        \"num_unique_values\": 1,\n        \"samples\": [\n          false\n        ],\n        \"semantic_type\": \"\",\n        \"description\": \"\"\n      }\n    },\n    {\n      \"column\": \"nama_produk\",\n      \"properties\": {\n        \"dtype\": \"boolean\",\n        \"num_unique_values\": 1,\n        \"samples\": [\n          false\n        ],\n        \"semantic_type\": \"\",\n        \"description\": \"\"\n      }\n    },\n    {\n      \"column\": \"kategori\",\n      \"properties\": {\n        \"dtype\": \"boolean\",\n        \"num_unique_values\": 1,\n        \"samples\": [\n          false\n        ],\n        \"semantic_type\": \"\",\n        \"description\": \"\"\n      }\n    },\n    {\n      \"column\": \"harga\",\n      \"properties\": {\n        \"dtype\": \"boolean\",\n        \"num_unique_values\": 2,\n        \"samples\": [\n          true\n        ],\n        \"semantic_type\": \"\",\n        \"description\": \"\"\n      }\n    },\n    {\n      \"column\": \"rating\",\n      \"properties\": {\n        \"dtype\": \"boolean\",\n        \"num_unique_values\": 2,\n        \"samples\": [\n          true\n        ],\n        \"semantic_type\": \"\",\n        \"description\": \"\"\n      }\n    },\n    {\n      \"column\": \"jumlah_ulasan\",\n      \"properties\": {\n        \"dtype\": \"boolean\",\n        \"num_unique_values\": 2,\n        \"samples\": [\n          true\n        ],\n        \"semantic_type\": \"\",\n        \"description\": \"\"\n      }\n    },\n    {\n      \"column\": \"negara_asal\",\n      \"properties\": {\n        \"dtype\": \"boolean\",\n        \"num_unique_values\": 1,\n        \"samples\": [\n          false\n        ],\n        \"semantic_type\": \"\",\n        \"description\": \"\"\n      }\n    }\n  ]\n}"
            }
          },
          "metadata": {},
          "execution_count": 38
        }
      ]
    },
    {
      "cell_type": "code",
      "source": [
        "# mengecek jumlah missing value setiap kolom\n",
        "np.sum(data.isnull())"
      ],
      "metadata": {
        "colab": {
          "base_uri": "https://localhost:8080/",
          "height": 359
        },
        "id": "e-7-tYcSfIu9",
        "outputId": "9f1e6539-0b56-42cb-cd6b-a3769074db33"
      },
      "execution_count": 39,
      "outputs": [
        {
          "output_type": "stream",
          "name": "stderr",
          "text": [
            "/usr/local/lib/python3.11/dist-packages/numpy/_core/fromnumeric.py:84: FutureWarning: The behavior of DataFrame.sum with axis=None is deprecated, in a future version this will reduce over both axes and return a scalar. To retain the old behavior, pass axis=0 (or do not pass axis)\n",
            "  return reduction(axis=axis, out=out, **passkwargs)\n"
          ]
        },
        {
          "output_type": "execute_result",
          "data": {
            "text/plain": [
              "produk_id         0\n",
              "nama_produk       0\n",
              "kategori          0\n",
              "harga            30\n",
              "rating           50\n",
              "jumlah_ulasan    20\n",
              "negara_asal       0\n",
              "dtype: int64"
            ],
            "text/html": [
              "<div>\n",
              "<style scoped>\n",
              "    .dataframe tbody tr th:only-of-type {\n",
              "        vertical-align: middle;\n",
              "    }\n",
              "\n",
              "    .dataframe tbody tr th {\n",
              "        vertical-align: top;\n",
              "    }\n",
              "\n",
              "    .dataframe thead th {\n",
              "        text-align: right;\n",
              "    }\n",
              "</style>\n",
              "<table border=\"1\" class=\"dataframe\">\n",
              "  <thead>\n",
              "    <tr style=\"text-align: right;\">\n",
              "      <th></th>\n",
              "      <th>0</th>\n",
              "    </tr>\n",
              "  </thead>\n",
              "  <tbody>\n",
              "    <tr>\n",
              "      <th>produk_id</th>\n",
              "      <td>0</td>\n",
              "    </tr>\n",
              "    <tr>\n",
              "      <th>nama_produk</th>\n",
              "      <td>0</td>\n",
              "    </tr>\n",
              "    <tr>\n",
              "      <th>kategori</th>\n",
              "      <td>0</td>\n",
              "    </tr>\n",
              "    <tr>\n",
              "      <th>harga</th>\n",
              "      <td>30</td>\n",
              "    </tr>\n",
              "    <tr>\n",
              "      <th>rating</th>\n",
              "      <td>50</td>\n",
              "    </tr>\n",
              "    <tr>\n",
              "      <th>jumlah_ulasan</th>\n",
              "      <td>20</td>\n",
              "    </tr>\n",
              "    <tr>\n",
              "      <th>negara_asal</th>\n",
              "      <td>0</td>\n",
              "    </tr>\n",
              "  </tbody>\n",
              "</table>\n",
              "</div><br><label><b>dtype:</b> int64</label>"
            ]
          },
          "metadata": {},
          "execution_count": 39
        }
      ]
    },
    {
      "cell_type": "markdown",
      "source": [
        "---\n",
        "### Dampak *Missing Value* terhadap Analisis Data\n",
        "---\n"
      ],
      "metadata": {
        "id": "HxpRZdtvpQGx"
      }
    },
    {
      "cell_type": "markdown",
      "source": [
        "*Missing Value* dalam dataset dapat memengaruhi data dalam berbagai aspek, tergantung pada jumlah dan distribusinya. Beberapa dampak utama adanya *missing value* yaitu:\n",
        "\n",
        "\n",
        "1.   Jika data yang hilang tidak tersebar secara acak, maka hasil analisis bisa menjadi **bias**. Misalnya, hanya produk dengan harga tinggi yang memiliki *missing value*, maka rata-rata harga yang dihitung bisa lebih rendah dari nilai sebenarnya.\n",
        "2.   Dapat terjadi kesalahan dalam model prediktif karena model *machine learning* sering kali tidak dapat menangani nilai *missing values* secara langsung. Jika *missing values* dihapus secara sembarangan, dapat menyebabkan kehilangan pola penting dalam data.\n",
        "3.   Terlalu banyak data yang dihapus karena *missing value*, dapat menyebabkan kehilangan banyak informasi berharga. Metode imputasi (mengisi nilai yang hilang) seperti mean, median, atau regresi bisa menjadi solusi untuk kasus ini.\n",
        "4.   Jika banyak data yang hilang, grafik seperti histogram atau *scatter plot* bisa menjadi tidak akurat."
      ],
      "metadata": {
        "id": "Qog_03fQCcLC"
      }
    },
    {
      "cell_type": "markdown",
      "source": [
        "---\n",
        "### Metode Penanganan *Missing Value*\n",
        "---   "
      ],
      "metadata": {
        "id": "wBPbEJrPPnXn"
      }
    },
    {
      "cell_type": "markdown",
      "source": [
        "Untuk memilih metode yang paling sesuai dalam menangani *missing value* di setiap kolom, perlu mempertimbangkan jenis data dan distribusinya. Berikut metode yang bisa digunakan:\n",
        "1.   Kolom 'harga' (30 *missing values*, data numerik)\n",
        "\n",
        "   Metode yang sesuai: imputasi dengan median, karena harga biasanya memiliki distribusi yang tidak simetris (skewed), sehingga median lebih robust dibandingkan mean. Jika harga memiliki outlier, penggunaan mean bisa menghasilkan nilai yang tidak representatif.\n",
        "2.   Kolom 'rating' (50 *missing values*, data numerik)\n",
        "\n",
        "   Metode yang sesuai: imputasi dengan mean atau modus. Jika rating memiliki distribusi normal, bisa menggunakan mean. Sedangkan, jika rating memiliki nilai diskrit (misal 1-5 bintang), lebih baik menggunakan modus.\n",
        "3.   Kolom 'jumlah_ulasan' (20 *missing value*, data numerik)\n",
        "\n",
        "   Metode yang sesuai: imputasi dengan 0 atau median. Jika jumlah ulasan hilang karena produk belum memiliki ulasa, maka bisa diisi dengan 0. Sedangkan, jika ingin mempertahankan pola distribusi data, maka gunakan median."
      ],
      "metadata": {
        "id": "izmdMhEtCkr8"
      }
    },
    {
      "cell_type": "markdown",
      "source": [
        "---\n",
        "### *Handling Missing Value*\n",
        "---"
      ],
      "metadata": {
        "id": "_HeYuzLFW-bB"
      }
    },
    {
      "cell_type": "code",
      "source": [
        "# Mengisi missing values pada kolom harga dengan median\n",
        "data['harga'].fillna(data['harga'].median(), inplace=True)\n",
        "\n",
        "# Mengisi missing values pada kolom rating dengan modus (nilai yang paling sering muncul)\n",
        "data['rating'].fillna(data['rating'].mode()[0], inplace=True)\n",
        "\n",
        "# Mengisi missing values pada kolom 'jumlah_ulasan' dengan 0 atau median (pilih salah satu)\n",
        "data['jumlah_ulasan'].fillna(0, inplace=True)  # Jika dianggap belum ada ulasan\n",
        "# data['jumlah_ulasan'].fillna(data['jumlah_ulasan'].median(), inplace=True)  # Jika ingin mempertahankan distribusi\n",
        "\n",
        "# Mengecek kembali apakah masih ada missing values\n",
        "print(data.isnull().sum())"
      ],
      "metadata": {
        "colab": {
          "base_uri": "https://localhost:8080/"
        },
        "id": "-lGqwLkm8kNo",
        "outputId": "0c249bcd-9a3d-4b38-8740-50b4a95301e6"
      },
      "execution_count": 40,
      "outputs": [
        {
          "output_type": "stream",
          "name": "stdout",
          "text": [
            "produk_id        0\n",
            "nama_produk      0\n",
            "kategori         0\n",
            "harga            0\n",
            "rating           0\n",
            "jumlah_ulasan    0\n",
            "negara_asal      0\n",
            "dtype: int64\n"
          ]
        },
        {
          "output_type": "stream",
          "name": "stderr",
          "text": [
            "<ipython-input-40-05da9cbd64da>:2: FutureWarning: A value is trying to be set on a copy of a DataFrame or Series through chained assignment using an inplace method.\n",
            "The behavior will change in pandas 3.0. This inplace method will never work because the intermediate object on which we are setting values always behaves as a copy.\n",
            "\n",
            "For example, when doing 'df[col].method(value, inplace=True)', try using 'df.method({col: value}, inplace=True)' or df[col] = df[col].method(value) instead, to perform the operation inplace on the original object.\n",
            "\n",
            "\n",
            "  data['harga'].fillna(data['harga'].median(), inplace=True)\n",
            "<ipython-input-40-05da9cbd64da>:5: FutureWarning: A value is trying to be set on a copy of a DataFrame or Series through chained assignment using an inplace method.\n",
            "The behavior will change in pandas 3.0. This inplace method will never work because the intermediate object on which we are setting values always behaves as a copy.\n",
            "\n",
            "For example, when doing 'df[col].method(value, inplace=True)', try using 'df.method({col: value}, inplace=True)' or df[col] = df[col].method(value) instead, to perform the operation inplace on the original object.\n",
            "\n",
            "\n",
            "  data['rating'].fillna(data['rating'].mode()[0], inplace=True)\n",
            "<ipython-input-40-05da9cbd64da>:8: FutureWarning: A value is trying to be set on a copy of a DataFrame or Series through chained assignment using an inplace method.\n",
            "The behavior will change in pandas 3.0. This inplace method will never work because the intermediate object on which we are setting values always behaves as a copy.\n",
            "\n",
            "For example, when doing 'df[col].method(value, inplace=True)', try using 'df.method({col: value}, inplace=True)' or df[col] = df[col].method(value) instead, to perform the operation inplace on the original object.\n",
            "\n",
            "\n",
            "  data['jumlah_ulasan'].fillna(0, inplace=True)  # Jika dianggap belum ada ulasan\n"
          ]
        }
      ]
    },
    {
      "cell_type": "markdown",
      "source": [
        "---\n",
        "## **Identifikasi dan Penanganan Outlier**\n",
        "---"
      ],
      "metadata": {
        "id": "rSGOyDDL8h_e"
      }
    },
    {
      "cell_type": "markdown",
      "source": [
        "---\n",
        "### Identifikasi Outlier dalam Dataset\n",
        "---"
      ],
      "metadata": {
        "id": "Ze9ZZwj2CzHC"
      }
    },
    {
      "cell_type": "code",
      "source": [
        "# Kolom numerik yang akan dicek otliernya\n",
        "num_cols = ['harga', 'rating', 'jumlah_ulasan']\n",
        "\n",
        "# Membuat boxplot untuk semua kolom numerik\n",
        "plt.figure(figsize=(12, 6))\n",
        "for i, col in enumerate(num_cols, 1):\n",
        "    plt.subplot(3, 4, i)\n",
        "    sns.boxplot(y=data[col])\n",
        "    plt.title(col)\n",
        "plt.tight_layout()\n",
        "plt.show()"
      ],
      "metadata": {
        "colab": {
          "base_uri": "https://localhost:8080/",
          "height": 210
        },
        "id": "B1Sxj1BJEJNq",
        "outputId": "7cbf876d-f8c8-43ac-ad73-0a13cd96d02d"
      },
      "execution_count": 41,
      "outputs": [
        {
          "output_type": "display_data",
          "data": {
            "text/plain": [
              "<Figure size 1200x600 with 3 Axes>"
            ],
            "image/png": "[encoded data removed]"
          },
          "metadata": {}
        }
      ]
    },
    {
      "cell_type": "code",
      "source": [
        "def detect_outliers_iqr(data, column):\n",
        "    Q1 = data[column].quantile(0.25)  # Kuartil 1\n",
        "    Q3 = data[column].quantile(0.75)  # Kuartil 3\n",
        "    IQR = Q3 - Q1  # Rentang interkuartil\n",
        "    lower_bound = Q1 - 1.5 * IQR\n",
        "    upper_bound = Q3 + 1.5 * IQR\n",
        "    return data[(data[column] < lower_bound) | (data[column] > upper_bound)]\n",
        "\n",
        "# Cek jumlah outlier untuk setiap kolom numerik\n",
        "for col in num_cols:\n",
        "    outliers = detect_outliers_iqr(data, col)\n",
        "    print(f\"{col}: {len(outliers)} outliers\")"
      ],
      "metadata": {
        "colab": {
          "base_uri": "https://localhost:8080/"
        },
        "id": "Jv79nt-HDpp7",
        "outputId": "bc07d204-213d-4862-8fd8-0039984c5467"
      },
      "execution_count": 42,
      "outputs": [
        {
          "output_type": "stream",
          "name": "stdout",
          "text": [
            "harga: 14 outliers\n",
            "rating: 0 outliers\n",
            "jumlah_ulasan: 0 outliers\n"
          ]
        }
      ]
    },
    {
      "cell_type": "markdown",
      "source": [
        "---\n",
        "### Dampak Outlier terhadap Analisis\n",
        "---"
      ],
      "metadata": {
        "id": "MrX7IwwIC3bu"
      }
    },
    {
      "cell_type": "markdown",
      "source": [
        "*Outlier* dapat memengaruhi hasil analisis data dengan berbagai cara tergantung pada metode statistik yang digunakan. Berikut beberapa dampaknya:\n",
        "1.   Memengaruhi Statistik Deskriptif\n",
        "   \n",
        "   Mean dapat menjadi tidak representatif terhadap data sebenarnya apabila terdapat outlier yang sangat besar atau kecil. Jika ingin menghindari bias akibat outlier, gunakan median karena lebih tahan terhadap outlier.\n",
        "2.   Memengaruhi Hasil *Machine Learning*\n",
        "   \n",
        "   Model regresi linier menjadi tidak akurat karena adanya satu atau dua nilai ekstrem yang dapat mengubah garis regresi secara signifikan. Sementara itu, K-Means clustering dan algoritma berbasis jarak seperti KNN bisa salah dalam mengelompokkan data karena *outlier* mengubah distribusi data.\n",
        "3.   Menyebabkan Kesalahan dalam Visualisasi\n",
        "   \n",
        "   Jika *outlier* sangat jauh dari data lain, maka skala grafik bisa menjadi tidak proporsional, membuat pola utama pada *boxplot* dan *scatter plot* sulit terlihat.\n",
        "4.   Menyebabkan Kesalahan dalam Mengambil Keputusan\n",
        "\n",
        "   Misalnya, jika sebuah perusahaan melihat rata-rata rating produk tinggi karena beberapa rating ekstrem 5.0, sedangkan mayoritas rating sebenarnya di bawah 3.0, maka keputusan yang diambil bisa salah.\n",
        "\n"
      ],
      "metadata": {
        "id": "7XOYiu_dG8cY"
      }
    },
    {
      "cell_type": "markdown",
      "source": [
        "---\n",
        "### Metode Penanganan Outlier\n",
        "---"
      ],
      "metadata": {
        "id": "5bb-nxxEC7_Y"
      }
    },
    {
      "cell_type": "markdown",
      "source": [
        "Setelah *outlier* diidentifikasi, ada beberapa metode untuk menanganinya:\n",
        "1.   Mengubah (Winsorizing) atau Transformasi Data\n",
        "\n",
        "   Mengubah nilai *outlier* agar tetap dalam batas tertentu. Bisa menggunakan Winsorizing (mengganti outlier dengan batas IQR) atau melakukan trransformasi logaritmik jika distribusi data sangat skewed (tidak simetris). Metode ini digunakan jika outlier memang bagian dari data tapi terlalu ekstrem atau jika tidak ingin kehilangan data tetapi tetap ingin mengurangi dampak outlier.\n",
        "2.   Menghapus *Outlier* (Jika Jumlahnya Sedikit dan Tidak SIgnifikan)\n",
        "   \n",
        "   Jika jumlah *outlier* sangat sedikit dan tidak mempengaruhi distribusi data, bisa dihapus. Metode ini digunakan jika *outlier* berasal dari data yang tidak relevan untuk analisis. Hal ini bisa memengaruhi dimensi data karena menghapus *outlier* bisa berbahaya jika ternyata *outlier* mengandung informasi penting.\n",
        "3.   Membiarkan *Outlier* Tetap Ada (Jika Bermakna)\n",
        "   \n",
        "   Tidak menghapus atau mengubah *outlier* jika memang *outlier* tersebut memiliki makna. Hanya melakukan analisis dengan median, bukan mean, agar tidak terpengaruh. Metode ini digunakan jika dataset memang memiliki distribusi yang alami dengan variabilitas tinggi. Kelemahan dari metode ini, hasil analisis tetap bisa bias jika tidak hati-hati."
      ],
      "metadata": {
        "id": "awsdVr7_RHcT"
      }
    },
    {
      "cell_type": "markdown",
      "source": [
        "---\n",
        "### Menangani Outlier\n",
        "---"
      ],
      "metadata": {
        "id": "IiDo4Io7DCZW"
      }
    },
    {
      "cell_type": "code",
      "source": [
        "# Winsorizing (Mengganti Outlier dengan Batas IQR)\n",
        "def winsorize_iqr(data, column):\n",
        "    Q1 = data[column].quantile(0.25)\n",
        "    Q3 = data[column].quantile(0.75)\n",
        "    IQR = Q3 - Q1\n",
        "    lower_bound = Q1 - 1.5 * IQR\n",
        "    upper_bound = Q3 + 1.5 * IQR\n",
        "    data[column] = np.where(data[column] < lower_bound, lower_bound, data[column])\n",
        "    data[column] = np.where(data[column] > upper_bound, upper_bound, data[column])\n",
        "\n",
        "# Terapkan Winsorizing\n",
        "for col in num_cols:\n",
        "    winsorize_iqr(data, col)"
      ],
      "metadata": {
        "id": "pmsjP9vn_ny9"
      },
      "execution_count": 43,
      "outputs": []
    },
    {
      "cell_type": "code",
      "source": [
        "# Cek boxplot lagi\n",
        "num_cols = ['harga', 'rating', 'jumlah_ulasan']\n",
        "\n",
        "# Visualisasi Boxplot\n",
        "plt.figure(figsize=(12, 6))\n",
        "for i, col in enumerate(num_cols, 1):\n",
        "    plt.subplot(3, 4, i)\n",
        "    sns.boxplot(y=data[col])\n",
        "    plt.title(col)\n",
        "plt.tight_layout()\n",
        "plt.show()"
      ],
      "metadata": {
        "colab": {
          "base_uri": "https://localhost:8080/",
          "height": 210
        },
        "id": "omJT38Nq3FX3",
        "outputId": "9994a0ac-1030-4caa-a59e-e7c454fa5a3d"
      },
      "execution_count": 44,
      "outputs": [
        {
          "output_type": "display_data",
          "data": {
            "text/plain": [
              "<Figure size 1200x600 with 3 Axes>"
            ],
            "image/png": "[encoded data removed]"
          },
          "metadata": {}
        }
      ]
    },
    {
      "cell_type": "markdown",
      "source": [
        "---\n",
        "## **Encoding Variabel Kategorikal**\n",
        "---"
      ],
      "metadata": {
        "id": "wNWNw2vUDOMO"
      }
    },
    {
      "cell_type": "markdown",
      "source": [
        "Encoding adalah proses mengubah data kategorik menjadi bentuk numerik agar dapat digunakan dalam analisis dan algoritma *machine learning*. Model *machine learning* umumnya hanya dapat bekerja dengan angka, sehingga data kategorik harus dikonversi terlebih dahulu sebelum digunakan dalam pemodelan."
      ],
      "metadata": {
        "id": "6Pl29IYkt5FZ"
      }
    },
    {
      "cell_type": "markdown",
      "source": [
        "---\n",
        "### Menentukan Kolom yang Memerlukan Encoding\n",
        "---"
      ],
      "metadata": {
        "id": "hGIIv5J5DWmb"
      }
    },
    {
      "cell_type": "code",
      "source": [
        "# melihat isi dalam kolom\n",
        "data['kategori'].unique()"
      ],
      "metadata": {
        "colab": {
          "base_uri": "https://localhost:8080/"
        },
        "id": "E68TB4bhs6RP",
        "outputId": "a417475b-067e-4501-c301-c7e8e30bafbd"
      },
      "execution_count": 45,
      "outputs": [
        {
          "output_type": "execute_result",
          "data": {
            "text/plain": [
              "array(['Smartwatch', 'Headphone', 'Tablet', 'Laptop', 'Camera',\n",
              "       'Smartphone'], dtype=object)"
            ]
          },
          "metadata": {},
          "execution_count": 45
        }
      ]
    },
    {
      "cell_type": "code",
      "source": [
        "data['negara_asal'].unique()"
      ],
      "metadata": {
        "colab": {
          "base_uri": "https://localhost:8080/"
        },
        "id": "3TWIDbVLugHR",
        "outputId": "1ba68c96-2317-44cd-8106-925eb09de80e"
      },
      "execution_count": 46,
      "outputs": [
        {
          "output_type": "execute_result",
          "data": {
            "text/plain": [
              "array(['Japan', 'Canada', 'South Korea', 'France', 'USA', 'Germany',\n",
              "       'China', 'India', 'UK'], dtype=object)"
            ]
          },
          "metadata": {},
          "execution_count": 46
        }
      ]
    },
    {
      "cell_type": "markdown",
      "source": [
        "---\n",
        "### Memilih dan Menerapkan Metode Encoding\n",
        "---"
      ],
      "metadata": {
        "id": "V2Ig74u4Df2t"
      }
    },
    {
      "cell_type": "code",
      "source": [
        "# One-Hot Encoding untuk 'kategori'\n",
        "data = pd.get_dummies(data, columns=['kategori'], prefix='kategori')"
      ],
      "metadata": {
        "id": "IvKZhl0murc9"
      },
      "execution_count": 47,
      "outputs": []
    },
    {
      "cell_type": "markdown",
      "source": [
        "Kategori ini tidak memiliki urutan, sehingga One-Hot Encoding (OHE) adalah metode yang paling sesuai."
      ],
      "metadata": {
        "id": "wyYs6zxVw0UX"
      }
    },
    {
      "cell_type": "code",
      "source": [
        "# One-Hot Encoding untuk 'negara_asal'\n",
        "data = pd.get_dummies(data, columns=['negara_asal'], prefix='negara')"
      ],
      "metadata": {
        "id": "wT1deQgFv5hU"
      },
      "execution_count": 48,
      "outputs": []
    },
    {
      "cell_type": "markdown",
      "source": [
        "Karena negara tidak memiliki urutan tertentu, kita bisa menggunakan One-Hot Encoding.\n",
        "Namun, jika jumlah negara sangat banyak, OHE bisa menyebabkan Curse of Dimensionality.\n",
        "Solusi lain adalah Label Encoding atau Regional Encoding dengan mengelompokkan negara berdasarkan wilayah."
      ],
      "metadata": {
        "id": "5iLMBe8sw9NP"
      }
    },
    {
      "cell_type": "code",
      "source": [
        "# cek Hasil Encoding\n",
        "data.info()"
      ],
      "metadata": {
        "colab": {
          "base_uri": "https://localhost:8080/"
        },
        "id": "kwmKB6d0xC6U",
        "outputId": "0d5ff725-315e-4368-baa0-2c57b42f8403"
      },
      "execution_count": 50,
      "outputs": [
        {
          "output_type": "stream",
          "name": "stdout",
          "text": [
            "<class 'pandas.core.frame.DataFrame'>\n",
            "RangeIndex: 550 entries, 0 to 549\n",
            "Data columns (total 20 columns):\n",
            " #   Column               Non-Null Count  Dtype  \n",
            "---  ------               --------------  -----  \n",
            " 0   produk_id            550 non-null    int64  \n",
            " 1   nama_produk          550 non-null    object \n",
            " 2   harga                550 non-null    float64\n",
            " 3   rating               550 non-null    float64\n",
            " 4   jumlah_ulasan        550 non-null    float64\n",
            " 5   kategori_Camera      550 non-null    bool   \n",
            " 6   kategori_Headphone   550 non-null    bool   \n",
            " 7   kategori_Laptop      550 non-null    bool   \n",
            " 8   kategori_Smartphone  550 non-null    bool   \n",
            " 9   kategori_Smartwatch  550 non-null    bool   \n",
            " 10  kategori_Tablet      550 non-null    bool   \n",
            " 11  negara_Canada        550 non-null    bool   \n",
            " 12  negara_China         550 non-null    bool   \n",
            " 13  negara_France        550 non-null    bool   \n",
            " 14  negara_Germany       550 non-null    bool   \n",
            " 15  negara_India         550 non-null    bool   \n",
            " 16  negara_Japan         550 non-null    bool   \n",
            " 17  negara_South Korea   550 non-null    bool   \n",
            " 18  negara_UK            550 non-null    bool   \n",
            " 19  negara_USA           550 non-null    bool   \n",
            "dtypes: bool(15), float64(3), int64(1), object(1)\n",
            "memory usage: 29.7+ KB\n"
          ]
        }
      ]
    }
  ]
}
